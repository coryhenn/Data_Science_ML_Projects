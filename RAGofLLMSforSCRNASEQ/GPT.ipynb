{
 "cells": [
  {
   "cell_type": "code",
   "execution_count": 3,
   "metadata": {},
   "outputs": [
    {
     "name": "stdout",
     "output_type": "stream",
     "text": [
      "You are a bioinformatics expert. Analyze the following cluster information:\n",
      "\n",
      "Cluster: Cluster_0\n",
      "Top Genes: AW112010, Plac8, Ly6a, S100a11, S100a10, Ccl5, Actg1, S100a6, Glrx, Lgals1, Ctla2a, Cxcr6, Id2, Actb, Pglyrp1, Nkg7, Anxa2, Ccr5, Gzmk, Cxcr3, Ahnak\n",
      "Biological Processes: GO:0002376~immune system process, GO:0045087~innate immune response, GO:0006954~inflammatory response, GO:0009615~response to virus, GO:0010628~positive regulation of gene expression, GO:0009617~response to bacterium, GO:0043065~positive regulation of apoptotic process, GO:0031640~killing of cells of another organism, GO:0042832~defense response to protozoan, GO:0045071~negative regulation of viral genome replication, GO:0045893~positive regulation of DNA-templated transcription, GO:0060326~cell chemotaxis, GO:0007204~positive regulation of cytosolic calcium ion concentration, GO:0008284~positive regulation of cell population proliferation, GO:0071346~cellular response to type II interferon, GO:1905686~positive regulation of plasma membrane repair, GO:0071222~cellular response to lipopolysaccharide, GO:0006935~chemotaxis, GO:0045648~positive regulation of erythrocyte differentiation, GO:0042742~defense response to bacterium, GO:0002437~inflammatory response to antigenic stimulus, GO:0051354~negative regulation of oxidoreductase activity, GO:0051607~defense response to virus, GO:0045766~positive regulation of angiogenesis, GO:0045672~positive regulation of osteoclast differentiation, GO:0140507~granzyme-mediated programmed cell death signaling pathway, GO:0006915~apoptotic process, GO:0051604~protein maturation, GO:0001525~angiogenesis\n",
      "\n",
      "\n"
     ]
    }
   ],
   "source": [
    "import pandas as pd\n",
    "import tiktoken\n",
    "\n",
    "# Load the gene markers and biological processes files, specifying index column\n",
    "gene_markers = pd.read_csv(\"cluster_gene_info_10.csv\")  # Gene markers\n",
    "biological_processes = pd.read_csv(\"GO_cluster_10.csv\")  # Biological processes\n",
    "\n",
    "# Initialize the prompt\n",
    "prompt = \"You are a bioinformatics expert. Analyze the following cluster information:\\n\\n\"\n",
    "\n",
    "# Iterate over clusters to construct the prompt\n",
    "for cluster in gene_markers.columns:\n",
    "    # Get the top genes for the cluster\n",
    "    genes = gene_markers[cluster].dropna().tolist()\n",
    "    \n",
    "    # Convert genes to strings (if they are integers)\n",
    "    genes = [str(gene) for gene in genes]\n",
    "    \n",
    "    # Get the biological processes for the cluster\n",
    "    if cluster in biological_processes.columns:\n",
    "        bio_processes = biological_processes[cluster].dropna().tolist()\n",
    "        bio_process_text = \", \".join(bio_processes)\n",
    "    else:\n",
    "        bio_process_text = \"No biological processes available\"\n",
    "\n",
    "    # Add cluster information to the prompt\n",
    "    prompt += f\"Cluster: {cluster}\\n\"\n",
    "    prompt += f\"Top Genes: {', '.join(genes)}\\n\"\n",
    "    prompt += f\"Biological Processes: {bio_process_text}\\n\\n\"\n",
    "\n",
    "# Print the prompt\n",
    "print(prompt)\n",
    "\n",
    "\n",
    "\n",
    "\n"
   ]
  },
  {
   "cell_type": "code",
   "execution_count": 2,
   "metadata": {},
   "outputs": [
    {
     "name": "stdout",
     "output_type": "stream",
     "text": [
      "   Cluster_0\n",
      "0   AW112010\n",
      "1      Plac8\n",
      "2       Ly6a\n",
      "3    S100a11\n",
      "4    S100a10\n",
      "5       Ccl5\n",
      "6      Actg1\n",
      "7     S100a6\n",
      "8       Glrx\n",
      "9     Lgals1\n",
      "10    Ctla2a\n",
      "11     Cxcr6\n",
      "12       Id2\n",
      "13      Actb\n",
      "14   Pglyrp1\n",
      "15      Nkg7\n",
      "16     Anxa2\n",
      "17      Ccr5\n",
      "18      Gzmk\n",
      "19     Cxcr3\n",
      "20     Ahnak\n"
     ]
    }
   ],
   "source": [
    "print(gene_markers)"
   ]
  },
  {
   "cell_type": "code",
   "execution_count": 3,
   "metadata": {},
   "outputs": [
    {
     "name": "stdout",
     "output_type": "stream",
     "text": [
      "Prompt uses 482 tokens.\n"
     ]
    }
   ],
   "source": [
    "# Tokenizer for a specific model (e.g., \"gpt-4\")\n",
    "tokenizer = tiktoken.encoding_for_model(\"gpt-4\")\n",
    "\n",
    "# Count tokens in the prompt\n",
    "token_count = len(tokenizer.encode(prompt))\n",
    "print(f\"Prompt uses {token_count} tokens.\")"
   ]
  },
  {
   "cell_type": "code",
   "execution_count": 4,
   "metadata": {},
   "outputs": [
    {
     "name": "stdout",
     "output_type": "stream",
     "text": [
      "   Cluster_0\n",
      "0   AW112010\n",
      "1      Plac8\n",
      "2       Ly6a\n",
      "3    S100a11\n",
      "4    S100a10\n",
      "5       Ccl5\n",
      "6      Actg1\n",
      "7     S100a6\n",
      "8       Glrx\n",
      "9     Lgals1\n",
      "10    Ctla2a\n",
      "11     Cxcr6\n",
      "12       Id2\n",
      "13      Actb\n",
      "14   Pglyrp1\n",
      "15      Nkg7\n",
      "16     Anxa2\n",
      "17      Ccr5\n",
      "18      Gzmk\n",
      "19     Cxcr3\n",
      "20     Ahnak\n"
     ]
    }
   ],
   "source": [
    "print(gene_markers)"
   ]
  },
  {
   "cell_type": "code",
   "execution_count": 5,
   "metadata": {},
   "outputs": [
    {
     "name": "stdout",
     "output_type": "stream",
     "text": [
      "                                            Cluster_0\n",
      "0                    GO:0002376~immune system process\n",
      "1                   GO:0045087~innate immune response\n",
      "2                    GO:0006954~inflammatory response\n",
      "3                        GO:0009615~response to virus\n",
      "4   GO:0010628~positive regulation of gene expression\n",
      "5                    GO:0009617~response to bacterium\n",
      "6   GO:0043065~positive regulation of apoptotic pr...\n",
      "7     GO:0031640~killing of cells of another organism\n",
      "8            GO:0042832~defense response to protozoan\n",
      "9   GO:0045071~negative regulation of viral genome...\n",
      "10  GO:0045893~positive regulation of DNA-template...\n",
      "11                         GO:0060326~cell chemotaxis\n",
      "12  GO:0007204~positive regulation of cytosolic ca...\n",
      "13  GO:0008284~positive regulation of cell populat...\n",
      "14  GO:0071346~cellular response to type II interf...\n",
      "15  GO:1905686~positive regulation of plasma membr...\n",
      "16  GO:0071222~cellular response to lipopolysaccha...\n",
      "17                              GO:0006935~chemotaxis\n",
      "18  GO:0045648~positive regulation of erythrocyte ...\n",
      "19           GO:0042742~defense response to bacterium\n",
      "20  GO:0002437~inflammatory response to antigenic ...\n",
      "21  GO:0051354~negative regulation of oxidoreducta...\n",
      "22               GO:0051607~defense response to virus\n",
      "23     GO:0045766~positive regulation of angiogenesis\n",
      "24  GO:0045672~positive regulation of osteoclast d...\n",
      "25  GO:0140507~granzyme-mediated programmed cell d...\n",
      "26                       GO:0006915~apoptotic process\n",
      "27                      GO:0051604~protein maturation\n",
      "28                            GO:0001525~angiogenesis\n"
     ]
    }
   ],
   "source": [
    "print(biological_processes)"
   ]
  },
  {
   "cell_type": "code",
   "execution_count": 6,
   "metadata": {},
   "outputs": [
    {
     "name": "stdout",
     "output_type": "stream",
     "text": [
      "Index(['Cluster_0'], dtype='object')\n",
      "Index(['Cluster_0'], dtype='object')\n"
     ]
    }
   ],
   "source": [
    "print(gene_markers.columns)\n",
    "print(biological_processes.columns)"
   ]
  },
  {
   "cell_type": "code",
   "execution_count": 7,
   "metadata": {},
   "outputs": [
    {
     "name": "stdout",
     "output_type": "stream",
     "text": [
      "Completion(id='cmpl-AYFl7dDGn58nfFnTXzwBBxBpG3cfO', choices=[CompletionChoice(finish_reason='length', index=0, logprobs=None, text='! Guys, im having a little trouble here.today i changed to a wayland')], created=1732727093, model='davinci-002', object='text_completion', system_fingerprint=None, usage=CompletionUsage(completion_tokens=16, prompt_tokens=2, total_tokens=18, completion_tokens_details=None, prompt_tokens_details=None))\n"
     ]
    }
   ],
   "source": [
    "from openai import OpenAI\n",
    "\n",
    "# Instantiate the OpenAI client with the API key\n",
    "client = OpenAI(api_key=\"YourAPIKey\")\n",
    "\n",
    "# Create a completion using the Davinci model\n",
    "completion = client.completions.create(model=\"davinci-002\", prompt=\"Hello world\")\n",
    "\n",
    "# Create a chat completion using the GPT-3.5 Turbo model\n",
    "chat_completion = client.chat.completions.create(model=\"gpt-3.5-turbo\", messages=[{\"role\": \"user\", \"content\": \"Hello world\"}])\n",
    "\n",
    "print(completion)\n"
   ]
  },
  {
   "cell_type": "code",
   "execution_count": 6,
   "metadata": {},
   "outputs": [
    {
     "name": "stdout",
     "output_type": "stream",
     "text": [
      "Prompt uses 490 tokens.\n"
     ]
    }
   ],
   "source": [
    "from openai import OpenAI\n",
    "## Set the API key and model name\n",
    "client = OpenAI(\n",
    "    api_key = \"YourAPIKey\",\n",
    ")\n",
    "# Define the prompt for the GPT model\n",
    "# Initialize the prompt\n",
    "prompt = \"You are a genious bioinformatics expert. Analyze the following cluster information, biological processes and infer a cell type:\\n\\n\"\n",
    "\n",
    "# Iterate over clusters to construct the prompt\n",
    "for cluster in gene_markers.columns:\n",
    "    # Get the top genes for the cluster\n",
    "    genes = gene_markers[cluster].dropna().tolist()\n",
    "    \n",
    "    # Convert genes to strings (if they are integers)\n",
    "    genes = [str(gene) for gene in genes]\n",
    "    \n",
    "    # Get the biological processes for the cluster\n",
    "    if cluster in biological_processes.columns:\n",
    "        bio_processes = biological_processes[cluster].dropna().tolist()\n",
    "        bio_process_text = \", \".join(bio_processes)\n",
    "    else:\n",
    "        bio_process_text = \"No biological processes available\"\n",
    "\n",
    "    # Add cluster information to the prompt\n",
    "    prompt += f\"Cluster: {cluster}\\n\"\n",
    "    prompt += f\"Top Genes: {', '.join(genes)}\\n\"\n",
    "    prompt += f\"Biological Processes: {bio_process_text}\\n\\n\"\n",
    " \n",
    "# Tokenizer for a specific model (e.g., \"gpt-4\")\n",
    "tokenizer = tiktoken.encoding_for_model(\"gpt-4o\")\n",
    " \n",
    "# Count tokens in the prompt\n",
    "token_count = len(tokenizer.encode(prompt))\n",
    "print(f\"Prompt uses {token_count} tokens.\")\n",
    " \n",
    "# Query GPT using the new OpenAI API (chat-based method)\n",
    "response = client.chat.completions.create(\n",
    "    model=\"gpt-4o\",  # Use \"gpt-4\" if you have access, or \"gpt-3.5\" for earlier models\n",
    "    messages=[{\"role\": \"user\", \"content\": prompt}],\n",
    "    max_tokens=2000,  # Adjust based on the expected response length\n",
    "    temperature=0.3,  # Adjust for creativity\n",
    "    top_p=0.9\n",
    ")\n",
    " \n"
   ]
  },
  {
   "cell_type": "code",
   "execution_count": 7,
   "metadata": {},
   "outputs": [
    {
     "name": "stdout",
     "output_type": "stream",
     "text": [
      "Based on the provided cluster information and biological processes, we can infer the likely cell type for Cluster_0.\n",
      "\n",
      "### Top Genes:\n",
      "- **AW112010, Plac8, Ly6a, S100a11, S100a10, Ccl5, Actg1, S100a6, Glrx, Lgals1, Ctla2a, Cxcr6, Id2, Actb, Pglyrp1, Nkg7, Anxa2, Ccr5, Gzmk, Cxcr3, Ahnak**\n",
      "\n",
      "### Biological Processes:\n",
      "- **Immune system process, innate immune response, inflammatory response, response to virus, response to bacterium, killing of cells of another organism, defense response to protozoan, negative regulation of viral genome replication, cell chemotaxis, cellular response to type II interferon, cellular response to lipopolysaccharide, inflammatory response to antigenic stimulus, defense response to virus, granzyme-mediated programmed cell death signaling pathway, apoptotic process**\n",
      "\n",
      "### Analysis:\n",
      "1. **Immune System and Inflammatory Response:** The presence of processes related to the immune system, innate immune response, and inflammatory response suggests that this cluster is related to immune cells.\n",
      "\n",
      "2. **Response to Pathogens:** The processes related to response to viruses, bacteria, and protozoans indicate a role in pathogen defense, which is characteristic of immune cells.\n",
      "\n",
      "3. **Chemotaxis and Cell Migration:** Processes like cell chemotaxis suggest that these cells can migrate to sites of infection or inflammation.\n",
      "\n",
      "4. **Granzyme-Mediated Programmed Cell Death:** The presence of granzyme-mediated pathways and genes like Gzmk (Granzyme K) suggests cytotoxic activity, which is typical of certain immune cells like cytotoxic T cells or natural killer (NK) cells.\n",
      "\n",
      "5. **Cytokine and Chemokine Receptors:** Genes like Ccl5, Ccr5, and Cxcr3 are involved in chemokine signaling, which is important for immune cell trafficking and activation.\n",
      "\n",
      "6. **Interferon Response:** The cellular response to type II interferon (IFN-γ) is a key feature of cells involved in adaptive and innate immune responses.\n",
      "\n",
      "### Conclusion:\n",
      "The combination of genes and biological processes strongly suggests that Cluster_0 represents a type of immune cell with cytotoxic capabilities. The presence of granzymes, chemokine receptors, and involvement in pathogen response and cell-mediated killing points towards a cytotoxic T cell or natural killer (NK) cell phenotype. Given the emphasis on innate immune responses and the specific genes listed, it is more likely that this cluster represents natural killer (NK) cells, which are key players in the innate immune system and are known for their ability to kill virus-infected cells and tumor cells.\n"
     ]
    }
   ],
   "source": [
    "print(response.choices[0].message.content.strip())"
   ]
  }
 ],
 "metadata": {
  "kernelspec": {
   "display_name": "Python (BigDataGroupProject)",
   "language": "python",
   "name": "bigdatagroupproject"
  },
  "language_info": {
   "codemirror_mode": {
    "name": "ipython",
    "version": 3
   },
   "file_extension": ".py",
   "mimetype": "text/x-python",
   "name": "python",
   "nbconvert_exporter": "python",
   "pygments_lexer": "ipython3",
   "version": "3.11.2"
  },
  "orig_nbformat": 4,
  "vscode": {
   "interpreter": {
    "hash": "aee8b7b246df8f9039afb4144a1f6fd8d2ca17a180786b69acc140d282b71a49"
   }
  }
 },
 "nbformat": 4,
 "nbformat_minor": 2
}
