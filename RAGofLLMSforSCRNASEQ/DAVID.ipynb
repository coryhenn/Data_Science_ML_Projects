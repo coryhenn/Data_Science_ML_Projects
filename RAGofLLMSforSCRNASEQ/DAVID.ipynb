{
 "cells": [
  {
   "cell_type": "code",
   "execution_count": 1,
   "metadata": {},
   "outputs": [
    {
     "name": "stdout",
     "output_type": "stream",
     "text": [
      "Data saved to cell_data_cluster16.csv\n"
     ]
    }
   ],
   "source": [
    "import pandas as pd\n",
    "\n",
    "# Load the text file directly from the URL\n",
    "url = \"https://davidbioinformatics.nih.gov/data/download/chart_340479A23A1B1733761587526.txt\"\n",
    "data = pd.read_csv(url, sep=\"\\t\")\n",
    "\n",
    "# Save the DataFrame as a CSV file\n",
    "csv_file_path = \"cell_data_cluster16.csv\"\n",
    "data.to_csv(csv_file_path, index=False)\n",
    "\n",
    "print(f\"Data saved to {csv_file_path}\")\n"
   ]
  },
  {
   "cell_type": "code",
   "execution_count": 2,
   "metadata": {},
   "outputs": [
    {
     "name": "stdout",
     "output_type": "stream",
     "text": [
      "            Category                                               Term  \\\n",
      "0   GOTERM_BP_DIRECT                     GO:0007165~signal transduction   \n",
      "1   GOTERM_BP_DIRECT                  GO:0061042~vascular wound healing   \n",
      "2   GOTERM_BP_DIRECT  GO:0045654~positive regulation of megakaryocyt...   \n",
      "3   GOTERM_BP_DIRECT                  GO:0060216~definitive hemopoiesis   \n",
      "4   GOTERM_BP_DIRECT      GO:0006366~transcription by RNA polymerase II   \n",
      "5   GOTERM_BP_DIRECT     GO:0061484~hematopoietic stem cell homeostasis   \n",
      "6   GOTERM_BP_DIRECT  GO:0045746~negative regulation of Notch signal...   \n",
      "7   GOTERM_BP_DIRECT  GO:0035019~somatic stem cell population mainte...   \n",
      "8   GOTERM_BP_DIRECT  GO:0031397~negative regulation of protein ubiq...   \n",
      "9   GOTERM_BP_DIRECT  GO:0010628~positive regulation of gene expression   \n",
      "10  GOTERM_BP_DIRECT                       GO:0009615~response to virus   \n",
      "\n",
      "    Count          %    PValue                                 Genes  \\\n",
      "0       6  31.578947  0.003181  BEX3, CDK6, NPR3, STMN1, CYTL1, CD34   \n",
      "1       2  10.526316  0.007728                           GATA2, CD34   \n",
      "2       2  10.526316  0.009438                          GATA2, MTURN   \n",
      "3       2  10.526316  0.014550                           LYL1, GATA2   \n",
      "4       3  15.789474  0.017072                 TSC22D1, CYTL1, GATA2   \n",
      "5       2  10.526316  0.021328                           GATA2, SOX4   \n",
      "6       2  10.526316  0.035586                          EGFL7, GATA2   \n",
      "7       2  10.526316  0.046357                           GATA2, SOX4   \n",
      "8       2  10.526316  0.048826                            BEX3, SOX4   \n",
      "9       3  15.789474  0.069965                     CDK6, GATA2, CD34   \n",
      "10      2  10.526316  0.090685                           CDK6, STMN1   \n",
      "\n",
      "    List Total  Pop Hits  Pop Total  Fold Enrichment  Bonferroni  Benjamini  \\\n",
      "0           18      1240      19734         5.304839    0.489471   0.663785   \n",
      "1           18         9      19734       243.629630    0.805426   0.663785   \n",
      "2           18        11      19734       199.333333    0.864774   0.663785   \n",
      "3           18        17      19734       128.980392    0.954618   0.720426   \n",
      "4           18       235      19734        13.995745    0.973569   0.720426   \n",
      "5           18        25      19734        87.706667    0.989421   0.750038   \n",
      "6           18        42      19734        52.206349    0.999522   1.000000   \n",
      "7           18        55      19734        39.866667    0.999955   1.000000   \n",
      "8           18        58      19734        37.804598    0.999974   1.000000   \n",
      "9           18       509      19734         6.461690    1.000000   1.000000   \n",
      "10          18       110      19734        19.933333    1.000000   1.000000   \n",
      "\n",
      "         FDR  \n",
      "0   0.663785  \n",
      "1   0.663785  \n",
      "2   0.663785  \n",
      "3   0.720426  \n",
      "4   0.720426  \n",
      "5   0.750038  \n",
      "6   1.000000  \n",
      "7   1.000000  \n",
      "8   1.000000  \n",
      "9   1.000000  \n",
      "10  1.000000  \n"
     ]
    }
   ],
   "source": [
    "print(data)"
   ]
  }
 ],
 "metadata": {
  "kernelspec": {
   "display_name": "Python (BigDataGroupProject)",
   "language": "python",
   "name": "bigdatagroupproject"
  },
  "language_info": {
   "codemirror_mode": {
    "name": "ipython",
    "version": 3
   },
   "file_extension": ".py",
   "mimetype": "text/x-python",
   "name": "python",
   "nbconvert_exporter": "python",
   "pygments_lexer": "ipython3",
   "version": "3.11.2"
  },
  "orig_nbformat": 4,
  "vscode": {
   "interpreter": {
    "hash": "a786d56863434387e2010784c97cf1a8554ea794299b1b0b6fe344f5015ad92a"
   }
  }
 },
 "nbformat": 4,
 "nbformat_minor": 2
}
